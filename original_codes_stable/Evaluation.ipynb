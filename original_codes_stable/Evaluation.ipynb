{
 "cells": [
  {
   "cell_type": "code",
   "execution_count": 1,
   "metadata": {},
   "outputs": [
    {
     "name": "stderr",
     "output_type": "stream",
     "text": [
      "/home/hassan/anaconda3/lib/python3.6/site-packages/h5py/__init__.py:34: FutureWarning: Conversion of the second argument of issubdtype from `float` to `np.floating` is deprecated. In future, it will be treated as `np.float64 == np.dtype(float).type`.\n",
      "  from ._conv import register_converters as _register_converters\n",
      "WARNING: Logging before flag parsing goes to stderr.\n",
      "W1124 21:31:58.293766 139906852521728 __init__.py:308] Limited tf.compat.v2.summary API due to missing TensorBoard installation.\n"
     ]
    }
   ],
   "source": [
    "from evaluators import gnet_evaluator"
   ]
  },
  {
   "cell_type": "code",
   "execution_count": 2,
   "metadata": {},
   "outputs": [
    {
     "name": "stdout",
     "output_type": "stream",
     "text": [
      "Initializing evaluator...\n",
      "Initializing generator...\n",
      "\u001b[32m[1124 21:32:12 @parallel.py:210]\u001b[0m [MultiProcessRunner] Will fork a dataflow more than one times. This assumes the datapoints are i.i.d.\n",
      "\u001b[32m[1124 21:32:12 @argtools.py:146]\u001b[0m \u001b[5m\u001b[31mWRN\u001b[0m Starting a process with 'fork' method is not safe and may consume unnecessary extra memory. Use 'forkserver/spawn' method (available after Py3.4) instead if you run into any issues. See https://docs.python.org/3/library/multiprocessing.html#contexts-and-start-methods\n",
      "\u001b[32m[1124 21:32:12 @argtools.py:146]\u001b[0m \u001b[5m\u001b[31mWRN\u001b[0m \"import prctl\" failed! Install python-prctl so that processes can be cleaned with guarantee.\n"
     ]
    },
    {
     "name": "stderr",
     "output_type": "stream",
     "text": [
      "W1124 21:32:12.961516 139906852521728 deprecation_wrapper.py:119] From /home/hassan/CVPR_final/v0_final/codes/evaluators.py:179: The name tf.GPUOptions is deprecated. Please use tf.compat.v1.GPUOptions instead.\n",
      "\n",
      "W1124 21:32:12.964292 139906852521728 deprecation_wrapper.py:119] From /home/hassan/CVPR_final/v0_final/codes/evaluators.py:180: The name tf.ConfigProto is deprecated. Please use tf.compat.v1.ConfigProto instead.\n",
      "\n",
      "W1124 21:32:12.965692 139906852521728 deprecation_wrapper.py:119] From /home/hassan/CVPR_final/v0_final/codes/evaluators.py:183: The name tf.InteractiveSession is deprecated. Please use tf.compat.v1.InteractiveSession instead.\n",
      "\n",
      "W1124 21:32:13.448579 139906852521728 deprecation_wrapper.py:119] From /home/hassan/CVPR_final/v0_final/codes/evaluators.py:211: The name tf.train.import_meta_graph is deprecated. Please use tf.compat.v1.train.import_meta_graph instead.\n",
      "\n"
     ]
    },
    {
     "name": "stdout",
     "output_type": "stream",
     "text": [
      "Loading grounding pretrained model...\n"
     ]
    },
    {
     "name": "stderr",
     "output_type": "stream",
     "text": [
      "W1124 21:32:23.132978 139906852521728 deprecation_wrapper.py:119] From /home/hassan/CVPR_final/v0_final/codes/evaluators.py:212: The name tf.global_variables_initializer is deprecated. Please use tf.compat.v1.global_variables_initializer instead.\n",
      "\n",
      "W1124 21:32:23.165967 139906852521728 deprecation_wrapper.py:119] From /home/hassan/CVPR_final/v0_final/codes/evaluators.py:212: The name tf.tables_initializer is deprecated. Please use tf.compat.v1.tables_initializer instead.\n",
      "\n",
      "W1124 21:32:28.934174 139906852521728 deprecation.py:323] From /home/hassan/anaconda3/lib/python3.6/site-packages/tensorflow/python/training/saver.py:1276: checkpoint_exists (from tensorflow.python.training.checkpoint_management) is deprecated and will be removed in a future version.\n",
      "Instructions for updating:\n",
      "Use standard file APIs to check for files with this prefix.\n"
     ]
    },
    {
     "name": "stdout",
     "output_type": "stream",
     "text": [
      "Loading done.\n"
     ]
    }
   ],
   "source": [
    "path_dict = {'lmdb': '/dvmm-filer2/datasets/Groundings/new/vg/images.lmdb',\n",
    "             'annotations': '/dvmm-filer2/datasets/Groundings/new/vg/annotations/test.pickle'}\n",
    "ckpt_path = '../pnas_coco/model_AttnGrnd_PNASNET_Depth_Max_MSCOCO_BL_corrected'\n",
    "\n",
    "geval = gnet_evaluator(gpu='3',\n",
    "                       ckpt_path=ckpt_path,\n",
    "                       data_path=path_dict,\n",
    "                       query_level='referral')"
   ]
  },
  {
   "cell_type": "code",
   "execution_count": 3,
   "metadata": {},
   "outputs": [
    {
     "name": "stdout",
     "output_type": "stream",
     "text": [
      "Sample 23999/23999, IoU:9.12, Pointing Accucary:50.51, Attention Correctness:46.65 \r"
     ]
    }
   ],
   "source": [
    "[iou_acc_vg,\n",
    " hit_acc_vg,\n",
    " att_crr_vg,\n",
    " wrd_idx_list_vg,\n",
    " sen_idx_list_vg,\n",
    " cat_lvl_scores_vg,\n",
    " cat_cnt_correct_vg,\n",
    " cat_cnt_correct_hit_vg,\n",
    " cat_att_correct_vg] = geval()"
   ]
  },
  {
   "cell_type": "code",
   "execution_count": 4,
   "metadata": {},
   "outputs": [
    {
     "name": "stdout",
     "output_type": "stream",
     "text": [
      "\u001b[32m[1125 04:17:19 @parallel.py:210]\u001b[0m [MultiProcessRunner] Will fork a dataflow more than one times. This assumes the datapoints are i.i.d.\n",
      "\u001b[32m[1125 04:17:22 @argtools.py:146]\u001b[0m \u001b[5m\u001b[31mWRN\u001b[0m \"import prctl\" failed! Install python-prctl so that processes can be cleaned with guarantee.\n",
      "Sample 1940/1940, IoU:3.72, Pointing Accucary:44.55, Attention Correctness:39.61 \r"
     ]
    }
   ],
   "source": [
    "######## ReferIt ########\n",
    "path_dict = {'lmdb': '/dvmm-filer2/datasets/Groundings/new/refer/images.lmdb',\n",
    "             'annotations': '/dvmm-filer2/datasets/Groundings/new/refer/annotations/test.pickle'}\n",
    "\n",
    "geval.update_data(data_path=path_dict,\n",
    "                  query_level='referral')\n",
    "\n",
    "[iou_acc_refer,\n",
    " hit_acc_refer,\n",
    " att_crr_refer,\n",
    " wrd_idx_list_refer,\n",
    " sen_idx_list_refer,\n",
    " cat_lvl_scores_refer,\n",
    " cat_cnt_correct_refer,\n",
    " cat_cnt_correct_hit_refer,\n",
    " cat_att_correct_refer] = geval()"
   ]
  },
  {
   "cell_type": "code",
   "execution_count": 5,
   "metadata": {},
   "outputs": [
    {
     "name": "stdout",
     "output_type": "stream",
     "text": [
      "\u001b[32m[1125 04:54:24 @parallel.py:210]\u001b[0m [MultiProcessRunner] Will fork a dataflow more than one times. This assumes the datapoints are i.i.d.\n",
      "\u001b[32m[1125 04:54:26 @argtools.py:146]\u001b[0m \u001b[5m\u001b[31mWRN\u001b[0m \"import prctl\" failed! Install python-prctl so that processes can be cleaned with guarantee.\n",
      "Sample 547/547, IoU:14.99, Pointing Accucary:69.23, Attention Correctness:63.08 \r"
     ]
    }
   ],
   "source": [
    "######## Flickr30k ########\n",
    "path_dict = {'lmdb': '/dvmm-filer2/datasets/Groundings/new/flickr/images.lmdb',\n",
    "             'annotations': '/dvmm-filer2/datasets/Groundings/new/flickr/annotations/test.pickle'}\n",
    "\n",
    "geval.update_data(data_path=path_dict,\n",
    "                  query_level='sentence')\n",
    "\n",
    "[iou_acc_f30k,\n",
    " hit_acc_f30k,\n",
    " att_crr_f30k,\n",
    " wrd_idx_list_f30k,\n",
    " sen_idx_list_f30k,\n",
    " cat_lvl_scores_f30k,\n",
    " cat_cnt_correct_f30k,\n",
    " cat_cnt_correct_hit_f30k,\n",
    " cat_att_correct_f30k] = geval()"
   ]
  },
  {
   "cell_type": "code",
   "execution_count": null,
   "metadata": {
    "collapsed": true
   },
   "outputs": [],
   "source": []
  }
 ],
 "metadata": {
  "kernelspec": {
   "display_name": "Python 3",
   "language": "python",
   "name": "python3"
  },
  "language_info": {
   "codemirror_mode": {
    "name": "ipython",
    "version": 3
   },
   "file_extension": ".py",
   "mimetype": "text/x-python",
   "name": "python",
   "nbconvert_exporter": "python",
   "pygments_lexer": "ipython3",
   "version": "3.6.1"
  }
 },
 "nbformat": 4,
 "nbformat_minor": 2
}
